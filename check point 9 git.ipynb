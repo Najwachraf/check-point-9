{
 "cells": [
  {
   "cell_type": "markdown",
   "id": "f4827f4e",
   "metadata": {},
   "source": [
    "# Question 1"
   ]
  },
  {
   "cell_type": "code",
   "execution_count": 1,
   "id": "d144cae6",
   "metadata": {},
   "outputs": [
    {
     "name": "stdout",
     "output_type": "stream",
     "text": [
      "Elément non présent\n"
     ]
    },
    {
     "data": {
      "text/plain": [
       "False"
      ]
     },
     "execution_count": 1,
     "metadata": {},
     "output_type": "execute_result"
    }
   ],
   "source": [
    "def recher_bin(A, L, H, NUM):\n",
    "    if H >= L:\n",
    "        mid = (H + L) // 2\n",
    "        if A[mid] == NUM:\n",
    "            return True \n",
    "        elif A[mid] > NUM:\n",
    "            return recher_bin(A, L, mid - 1, NUM)\n",
    "        else:\n",
    "            return recher_bin(A, mid + 1, H, NUM)\n",
    "        \n",
    "    else:\n",
    "        return False\n",
    "print(\"Elément non présent\") \n",
    "A=[1,2,3,5,8]\n",
    "recher_bin(A,0,4,9)"
   ]
  },
  {
   "cell_type": "markdown",
   "id": "4ccb0d80",
   "metadata": {},
   "source": [
    "# Question 2"
   ]
  },
  {
   "cell_type": "code",
   "execution_count": 5,
   "id": "fb855b5f",
   "metadata": {},
   "outputs": [
    {
     "data": {
      "text/plain": [
       "81"
      ]
     },
     "execution_count": 5,
     "metadata": {},
     "output_type": "execute_result"
    }
   ],
   "source": [
    "def puissance (a,b):\n",
    "    puissance = a**b\n",
    "    return puissance\n",
    "puissance(3,4)"
   ]
  },
  {
   "cell_type": "code",
   "execution_count": 14,
   "id": "eb1c9b4a",
   "metadata": {},
   "outputs": [
    {
     "data": {
      "text/plain": [
       "81"
      ]
     },
     "execution_count": 14,
     "metadata": {},
     "output_type": "execute_result"
    }
   ],
   "source": [
    "def puis (a,b):\n",
    "    pui = 1\n",
    "    if a==0:\n",
    "        return 0\n",
    "    elif b==0 :\n",
    "        return 1\n",
    "    else :\n",
    "        for i in range (b):\n",
    "            pui = pui * a\n",
    "        return pui\n",
    "puis(3,4)"
   ]
  },
  {
   "cell_type": "markdown",
   "id": "be4b7955",
   "metadata": {},
   "source": [
    "# Question 3"
   ]
  },
  {
   "cell_type": "code",
   "execution_count": 1,
   "id": "b2a806b2",
   "metadata": {},
   "outputs": [
    {
     "name": "stdout",
     "output_type": "stream",
     "text": [
      "Le tableau trié est:\n",
      "13\n",
      "22\n",
      "29\n",
      "37\n",
      "46\n",
      "49\n",
      "52\n",
      "56\n",
      "71\n"
     ]
    }
   ],
   "source": [
    "def tri_bulle(tab):\n",
    "    n = len(tab)\n",
    "    for i in range(n):\n",
    "        for j in range(0, n-i-1):\n",
    "            if tab[j] > tab[j+1] :\n",
    "                tab[j], tab[j+1] = tab[j+1], tab[j]\n",
    "tab = [29,13,22,37,52,49,46,71,56] \n",
    "tri_bulle(tab) \n",
    "print (\"Le tableau trié est:\")\n",
    "for i in range(len(tab)):\n",
    "    print (\"%d\" %tab[i])"
   ]
  },
  {
   "cell_type": "markdown",
   "id": "3cec6a51",
   "metadata": {},
   "source": [
    "# Question 4"
   ]
  },
  {
   "cell_type": "code",
   "execution_count": 2,
   "id": "6cb6a09c",
   "metadata": {},
   "outputs": [
    {
     "name": "stdout",
     "output_type": "stream",
     "text": [
      "[13, 22, 29, 37, 46, 49, 52, 56, 71]\n"
     ]
    }
   ],
   "source": [
    "def mergeSort(myList):\n",
    "    if len(myList) > 1:\n",
    "        mid = len(myList) // 2\n",
    "        left = myList[:mid]\n",
    "        right = myList[mid:]\n",
    "\n",
    "        # Recursive call on each half\n",
    "        mergeSort(left)\n",
    "        mergeSort(right)\n",
    "\n",
    "        # Two iterators for traversing the two halves\n",
    "        i = 0\n",
    "        j = 0\n",
    "        \n",
    "        # Iterator for the main list\n",
    "        k = 0\n",
    "        \n",
    "        while i < len(left) and j < len(right):\n",
    "            if left[i] < right[j]:\n",
    "              # The value from the left half has been used\n",
    "              myList[k] = left[i]\n",
    "              # Move the iterator forward\n",
    "              i += 1\n",
    "            else:\n",
    "                myList[k] = right[j]\n",
    "                j += 1\n",
    "            # Move to the next slot\n",
    "            k += 1\n",
    "\n",
    "        # For all the remaining values\n",
    "        while i < len(left):\n",
    "            myList[k] = left[i]\n",
    "            i += 1\n",
    "            k += 1\n",
    "\n",
    "        while j < len(right):\n",
    "            myList[k]=right[j]\n",
    "            j += 1\n",
    "            k += 1\n",
    "\n",
    "myList = [29,13,22,37,52,49,46,71,56]\n",
    "mergeSort(myList)\n",
    "print(myList)"
   ]
  },
  {
   "cell_type": "markdown",
   "id": "2b36c45b",
   "metadata": {},
   "source": [
    "# Question 4"
   ]
  },
  {
   "cell_type": "code",
   "execution_count": 3,
   "id": "5b702e64",
   "metadata": {},
   "outputs": [],
   "source": [
    "def partition(array, start, end):\n",
    "    pivot = array[start]\n",
    "    low = start + 1\n",
    "    high = end\n",
    "    while True:\n",
    "        # If the current value we're looking at is larger than the pivot\n",
    "        # it's in the right place (right side of pivot) and we can move left,\n",
    "        # to the next element.\n",
    "        # We also need to make sure we haven't surpassed the low pointer, since that\n",
    "        # indicates we have already moved all the elements to their correct side of the pivot\n",
    "        while low <= high and array[high] >= pivot:\n",
    "            high = high - 1\n",
    "\n",
    "        # Opposite process of the one above\n",
    "        while low <= high and array[low] <= pivot:\n",
    "            low = low + 1\n",
    "\n",
    "        # We either found a value for both high and low that is out of order\n",
    "        # or low is higher than high, in which case we exit the loop\n",
    "        if low <= high:\n",
    "            array[low], array[high] = array[high], array[low]\n",
    "            # The loop continues\n",
    "        else:\n",
    "            # We exit out of the loop\n",
    "            break\n",
    "\n",
    "    array[start], array[high] = array[high], array[start]\n",
    "\n",
    "    return high"
   ]
  },
  {
   "cell_type": "code",
   "execution_count": null,
   "id": "3bb27e7a",
   "metadata": {},
   "outputs": [],
   "source": []
  },
  {
   "cell_type": "code",
   "execution_count": null,
   "id": "5eca38d5",
   "metadata": {},
   "outputs": [],
   "source": []
  }
 ],
 "metadata": {
  "kernelspec": {
   "display_name": "Python 3",
   "language": "python",
   "name": "python3"
  },
  "language_info": {
   "codemirror_mode": {
    "name": "ipython",
    "version": 3
   },
   "file_extension": ".py",
   "mimetype": "text/x-python",
   "name": "python",
   "nbconvert_exporter": "python",
   "pygments_lexer": "ipython3",
   "version": "3.8.8"
  }
 },
 "nbformat": 4,
 "nbformat_minor": 5
}
